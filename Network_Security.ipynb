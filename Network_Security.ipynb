{
  "nbformat": 4,
  "nbformat_minor": 0,
  "metadata": {
    "colab": {
      "name": "Network Security.ipynb",
      "provenance": [],
      "collapsed_sections": []
    },
    "kernelspec": {
      "name": "python3",
      "display_name": "Python 3"
    },
    "language_info": {
      "name": "python"
    }
  },
  "cells": [
    {
      "cell_type": "markdown",
      "metadata": {
        "id": "SIOR7tUXEuoY"
      },
      "source": [
        "# **Program to generate MD5 of string data :**"
      ]
    },
    {
      "cell_type": "code",
      "metadata": {
        "id": "u-rme-yTCTHe"
      },
      "source": [
        "import hashlib"
      ],
      "execution_count": null,
      "outputs": []
    },
    {
      "cell_type": "code",
      "metadata": {
        "id": "sQZGLTWxCuzl"
      },
      "source": [
        "print('enter any string : ')\n",
        "str1 = input()"
      ],
      "execution_count": null,
      "outputs": []
    },
    {
      "cell_type": "code",
      "metadata": {
        "id": "S2LzsyBTCipx"
      },
      "source": [
        "result = hashlib.md5(str1.encode())"
      ],
      "execution_count": null,
      "outputs": []
    },
    {
      "cell_type": "code",
      "metadata": {
        "id": "A8Tv9BDmCmn5"
      },
      "source": [
        "print(\"The byte equivalent of hash is : \")\n",
        "print(result.digest())\n",
        "print(\"\\n\")\n",
        "\n",
        "print(\"The hexadecimal equivalent of hash is : \")\n",
        "print(result.hexdigest())"
      ],
      "execution_count": null,
      "outputs": []
    },
    {
      "cell_type": "markdown",
      "metadata": {
        "id": "NS27ayXbpi44"
      },
      "source": [
        "# **Program to generate hashes of string data :**"
      ]
    },
    {
      "cell_type": "code",
      "metadata": {
        "id": "obwiNW8iu5VV"
      },
      "source": [
        "import hashlib"
      ],
      "execution_count": null,
      "outputs": []
    },
    {
      "cell_type": "code",
      "metadata": {
        "id": "eLmv7mC_u-fn"
      },
      "source": [
        "str2 = input(\"Enter the string :\")"
      ],
      "execution_count": null,
      "outputs": []
    },
    {
      "cell_type": "markdown",
      "metadata": {
        "id": "e962rlfWuwPn"
      },
      "source": [
        "**Method 1 :**"
      ]
    },
    {
      "cell_type": "code",
      "metadata": {
        "id": "3SmVd2ylvgPy"
      },
      "source": [
        "ans1 = hashlib.sha256(str2.encode())"
      ],
      "execution_count": null,
      "outputs": []
    },
    {
      "cell_type": "code",
      "metadata": {
        "id": "YWJ_0wxovcgt"
      },
      "source": [
        "print(\"hash code is :\")\n",
        "print(ans1.digest())"
      ],
      "execution_count": null,
      "outputs": []
    },
    {
      "cell_type": "markdown",
      "metadata": {
        "id": "8GHPVvThwWBo"
      },
      "source": [
        "**Method 2 :**"
      ]
    },
    {
      "cell_type": "code",
      "metadata": {
        "id": "I0ny-s9awbF-"
      },
      "source": [
        "ans2 = hashlib.blake2s(str2.encode())"
      ],
      "execution_count": null,
      "outputs": []
    },
    {
      "cell_type": "code",
      "metadata": {
        "id": "WXaX3C2lwelk"
      },
      "source": [
        "print(\"hash code is :\")\n",
        "print(ans2.digest())"
      ],
      "execution_count": null,
      "outputs": []
    },
    {
      "cell_type": "markdown",
      "metadata": {
        "id": "jne1Bx4KwhXe"
      },
      "source": [
        "**Method 3 :**"
      ]
    },
    {
      "cell_type": "code",
      "metadata": {
        "id": "KKgLk-STwmjg"
      },
      "source": [
        "ans3 = hashlib.sha3_256(str2.encode())"
      ],
      "execution_count": null,
      "outputs": []
    },
    {
      "cell_type": "code",
      "metadata": {
        "id": "mlTQHIICwoE5"
      },
      "source": [
        "print(\"hash code is :\")\n",
        "print(ans3.digest())"
      ],
      "execution_count": null,
      "outputs": []
    },
    {
      "cell_type": "markdown",
      "metadata": {
        "id": "gLtkwutnpr4P"
      },
      "source": [
        "# **Program to add salts and iterator to hashes :**"
      ]
    },
    {
      "cell_type": "code",
      "metadata": {
        "id": "Or8xCM1vyK4g"
      },
      "source": [
        "import hashlib"
      ],
      "execution_count": null,
      "outputs": []
    },
    {
      "cell_type": "markdown",
      "metadata": {
        "id": "K1oya31MzrFy"
      },
      "source": [
        "Adding a random string, known as salt in the password before hashing :"
      ]
    },
    {
      "cell_type": "code",
      "metadata": {
        "id": "GPE1M39Uy-Ev"
      },
      "source": [
        "str4 = input(\"Enter the string : \") + \"KGubfwhfqiqGGYqoo\""
      ],
      "execution_count": null,
      "outputs": []
    },
    {
      "cell_type": "code",
      "metadata": {
        "id": "5dZK9e5PzFJT"
      },
      "source": [
        "ans4 = hashlib.sha256(str4.encode())\n",
        "print(ans4.digest())"
      ],
      "execution_count": null,
      "outputs": []
    },
    {
      "cell_type": "markdown",
      "metadata": {
        "id": "RflG3BVwE-dA"
      },
      "source": [
        "Adding iterations in hashes :"
      ]
    },
    {
      "cell_type": "code",
      "metadata": {
        "id": "VY7WohFjJQah"
      },
      "source": [
        "import hashlib"
      ],
      "execution_count": null,
      "outputs": []
    },
    {
      "cell_type": "code",
      "metadata": {
        "id": "SEnP12SAJSr4"
      },
      "source": [
        "salt = 'KGubfwhfqiqGGYqoo'\n",
        "str5 = input(\"Enter the string : \")\n",
        "str5 = str(str5)"
      ],
      "execution_count": null,
      "outputs": []
    },
    {
      "cell_type": "code",
      "metadata": {
        "id": "KfHEv9WUGc6c"
      },
      "source": [
        "print(\"Enter the number of iterstions :\")\n",
        "cir = input()\n",
        "cir = int(cir)"
      ],
      "execution_count": null,
      "outputs": []
    },
    {
      "cell_type": "code",
      "metadata": {
        "id": "zrPQa03SR6Kw"
      },
      "source": [
        "def ans(inpstr) :\n",
        "    temp = hashlib.sha256(inpstr.encode())\n",
        "    return temp.digest()\n",
        "    "
      ],
      "execution_count": null,
      "outputs": []
    },
    {
      "cell_type": "code",
      "metadata": {
        "id": "IUJIDuHcPpk_"
      },
      "source": [
        "for x in range(cir) :\n",
        "    str5 = str(str5) + str(salt)\n",
        "    str5 = ans(str5)\n",
        " "
      ],
      "execution_count": null,
      "outputs": []
    },
    {
      "cell_type": "code",
      "metadata": {
        "id": "T4R9TxRbKQ8O"
      },
      "source": [
        "print(\"Hash code after given iterations is :\")\n",
        "print(str5)"
      ],
      "execution_count": null,
      "outputs": []
    },
    {
      "cell_type": "markdown",
      "metadata": {
        "id": "TpaOSGmzgSdP"
      },
      "source": [
        "# Thank you!!"
      ]
    }
  ]
}